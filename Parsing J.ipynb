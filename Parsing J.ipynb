{
 "cells": [
  {
   "cell_type": "code",
   "execution_count": 1,
   "metadata": {
    "collapsed": false
   },
   "outputs": [
    {
     "name": "stdout",
     "output_type": "stream",
     "text": [
      "E\u0000r\u0000r\u0000o\u0000r\u0000:\u0000 \u00000\u0000x\u00008\u00000\u00000\u00007\u00000\u00000\u00005\u00007\u0000\r",
      "\u0000\r",
      "\u0000\n",
      "\u0000"
     ]
    }
   ],
   "source": [
    "%%bash\n",
    "pip install lark-parser"
   ]
  },
  {
   "cell_type": "markdown",
   "metadata": {},
   "source": [
    "# APL Grammar \n",
    "( http://www.jsoftware.com/papers/APLDictionary1.htm )\n",
    "\n",
    "APL has six grammatical elements:\n",
    "\n",
    "1. \t**Nouns**, such as the *numbers* `3` and `5.6` , alphabetic characters or literals such as `+` and `A` and `a` . \n",
    " \n",
    "2. \t**Verbs**, such as `+` (addition) and `|` (magnitude) that act upon nouns to produce results that are also nouns. The nouns to which a particular verb applies are called its *arguments* (a word adopted in its sense of theme, or *subject*). A verb may have two distinct (but usually related) meanings according to whether it is applied to one argument (to its right) or two arguments (to its left and right). For example:\n",
    "```apl\n",
    "         2÷5                    ÷4\n",
    "    .4                     .25\n",
    "```\n",
    "3. \t**Adverbs**, such as `/` , that act upon verbs or nouns. For example, `+/` is a (*derived*) verb called plus across that sums any list of numbers to which it is applied, and `×/` is a verb that yields the product across all elements of a list.\n",
    "\n",
    " When an adverb applies to a noun rather than to a verb (as in `1 0 2 /` to produce a “selection” verb so that `1 0 2 / 5 8 7` yields `5 7 7`) it might well be called an _adjective_. However, since such production of verbs from nouns is (in English) more commonly performed by a suffix rather than by an adjective (as in deify, reify, and nitrify), we will use the term _adverb_ for all cases. \n",
    " \n",
    "4. \t**Conjunctions**, such as `⍤` and `¨` , which apply to two arguments, as `⌽⍤⍉` (reverse and transpose). The arguments of a conjunction may be either verbs (as in the examples above) or nouns (as in `10¨⍟` , meaning base-ten logarithm). \n",
    " \n",
    "5. \tA **copula**, denoted by the arrow ← , and used to assign a name to a noun, verb, adverb, or conjunction. For example:\n",
    " ```apl\n",
    "        area←4×8\n",
    "        3+area\n",
    "    35\n",
    "        sum←+/\n",
    "        sum 2 3 4\n",
    "    9\n",
    " ```\n",
    " The arrow plays the same role as the copulas “is” and “are” in English; it is usually read as “is”, as in “area is four times eight” for `area←4×8` , and “(the verb) sum is plus across” for `sum←+/` . \n",
    "\n",
    " A name assigned to a noun will be called a *pronoun*, and one assigned to a verb may be called a *proverb* (pronounced with a long o as in “pronoun” to distinguish it from the existing English word).\n",
    "\n",
    "6.  **Punctuation**, provided by paired parentheses that specify the sequence of execution just as they do in elementary algebra. Sentences must appear on separate lines, and no punctuation is used to separate them."
   ]
  },
  {
   "cell_type": "markdown",
   "metadata": {},
   "source": [
    "# J Reference\n",
    "\n",
    "How expressions get evaluated:\n",
    "http://www.jsoftware.com/help/learning/91.htm\n",
    "All the \"parts of speech\" reference:\n",
    "http://www.jsoftware.com/help/dictionary/partsofspeech.htm"
   ]
  },
  {
   "cell_type": "code",
   "execution_count": 3,
   "metadata": {
    "collapsed": false
   },
   "outputs": [],
   "source": [
    "J_grammar = r\"\"\"\n",
    "    ?start: expression\n",
    "    \n",
    "    pos_num:      NUMBER\n",
    "    minus_num :   \"_\"pos_num\n",
    "    ?signed_num:   pos_num|minus_num\n",
    "    complex_num: signed_num\"j\"signed_num\n",
    "    \n",
    "    ?num : signed_num|complex_num  \n",
    "    \n",
    "    _WS : WS\n",
    "    \n",
    "    list: num (_WS num)* \n",
    "    \n",
    "    ?verb: symbol\n",
    "    ?symbol: \"+\"   -> plus\n",
    "          |  \"*\"   -> times\n",
    "          \n",
    "    monad: symbol _WS* list\n",
    "    dyad:  list   _WS* verb _WS* list\n",
    "    \n",
    "    expression: list|monad|dyad\n",
    "\n",
    "    %import common.NUMBER\n",
    "    %import common.WS\n",
    "\"\"\""
   ]
  },
  {
   "cell_type": "markdown",
   "metadata": {},
   "source": [
    "http://code.jsoftware.com/wiki/User:Devon_McCormick/MinimalBeginningJ\n",
    "\n",
    "<table class=\"wikitable\">\n",
    "\n",
    "    <tr>\n",
    "        <td colspan=\"2\" style=\"text-align: center;\"> <b>Basics</b>\n",
    "        </td>\n",
    "        <td colspan=\"2\" style=\"text-align: center;\"> <b>Examples</b> (paste into J)\n",
    "        </td></tr>\n",
    "    <tr>\n",
    "        <td>=. <a href=\"http://code.jsoftware.com/wiki/Vocabulary/eqdot\" title=\"Vocabulary/eqdot\">Is (local assignment)</a>\n",
    "        </td>\n",
    "        <td>=:  <a href=\"http://code.jsoftware.com/wiki/Vocabulary/eqco\" title=\"Vocabulary/eqco\">Is (global assignment)</a>\n",
    "        </td>\n",
    "        <td><tt>loc=. 1 2</tt>\n",
    "        </td>\n",
    "        <td><tt>GLO=: 'foo'</tt>\n",
    "        </td></tr>\n",
    "    <tr>\n",
    "        <td>_ <a href=\"http://code.jsoftware.com/wiki/Vocabulary/under\" title=\"Vocabulary/under\">Negative Sign • Infinity</a>\n",
    "        </td>\n",
    "        <td>NB. <a href=\"http://code.jsoftware.com/wiki/Vocabulary/ncapbcapdot\" title=\"Vocabulary/ncapbcapdot\">Comment</a>\n",
    "        </td>\n",
    "        <td><tt>_3 = -3</tt>\n",
    "        </td>\n",
    "        <td><tt>NB. negative vs. negate</tt>\n",
    "        </td></tr>\n",
    "    <tr>\n",
    "        <td>'string' <a rel=\"nofollow\" class=\"external text\" href=\"http://www.jsoftware.com/jwiki/Guides/General%20FAQ/Numbers%20and%20Character%20Representations#Character_to_Number_.28.22..29\">Character string</a>\n",
    "        </td>\n",
    "        <td>\n",
    "        </td>\n",
    "        <td><tt>'' NB. Empty vector</tt>\n",
    "        </td>\n",
    "        <td><tt>'Hello, World!'</tt>\n",
    "        </td></tr>\n",
    "    <tr>\n",
    "        <td colspan=\"4\" style=\"text-align: center;\"> <b>Arrays</b>\n",
    "        </td></tr>\n",
    "    <tr>\n",
    "        <td> &#36; <a href=\"http://code.jsoftware.com/wiki/Vocabulary/dollar\" title=\"Vocabulary/dollar\">Shape Of • Reshape</a>\n",
    "        </td>\n",
    "        <td># <a href=\"http://code.jsoftware.com/wiki/Vocabulary/number\" title=\"Vocabulary/number\">Tally • Copy</a>\n",
    "        </td>\n",
    "        <td><tt>2 2 4 &#36; 1 2 11 22</tt>\n",
    "        </td>\n",
    "        <td><tt>1 2 3 # 1 2 3</tt>\n",
    "        </td></tr>\n",
    "    <tr>\n",
    "        <td>, <a href=\"http://code.jsoftware.com/wiki/Vocabulary/comma\" title=\"Vocabulary/comma\">Ravel • Append</a>\n",
    "        </td>\n",
    "        <td>; <a href=\"http://code.jsoftware.com/wiki/Vocabulary/semi\" title=\"Vocabulary/semi\">Raze / Link</a>\n",
    "        </td>\n",
    "        <td><tt>, 2 2$99</tt>\n",
    "        </td>\n",
    "        <td><tt>23&#160;; 'skidoo'</tt>\n",
    "        </td></tr>\n",
    "    <tr>\n",
    "        <td>{. <a href=\"http://code.jsoftware.com/wiki/Vocabulary/curlylfdot#dyadic\" title=\"Vocabulary/curlylfdot\">Take</a>\n",
    "        </td>\n",
    "        <td> }. <a href=\"http://code.jsoftware.com/wiki/Vocabulary/curlyrtdot#dyadic\" title=\"Vocabulary/curlyrtdot\">Drop</a>\n",
    "        </td>\n",
    "        <td><tt>3 {. 'foot'</tt>\n",
    "        </td>\n",
    "        <td><tt>2 }. 1 2 3 4</tt>\n",
    "        </td></tr>\n",
    "    <tr>\n",
    "        <td>/ <a href=\"http://code.jsoftware.com/wiki/Vocabulary/slash\" title=\"Vocabulary/slash\">Insert • Table</a>\n",
    "        </td>\n",
    "        <td>i. <a href=\"http://code.jsoftware.com/wiki/Vocabulary/idot\" title=\"Vocabulary/idot\">Integers • Index of</a>\n",
    "        </td>\n",
    "        <td><tt>+ / 1 10 100</tt>\n",
    "        </td>\n",
    "        <td><tt>i. 10</tt>\n",
    "        </td>\n",
    "        <td><tt>'foo' i. 'o'</tt>\n",
    "        </td></tr>\n",
    "    <tr>\n",
    "        <td colspan=\"4\" style=\"text-align: center;\"> <b>Math</b>\n",
    "        </td></tr>\n",
    "    <tr>\n",
    "        <td><tt>+</tt> <a href=\"http://code.jsoftware.com/wiki/Vocabulary/plus#dyadic\" title=\"Vocabulary/plus\">Conjugate • Plus</a>\n",
    "        </td>\n",
    "        <td>* <a href=\"http://code.jsoftware.com/wiki/Vocabulary/star#dyadic\" title=\"Vocabulary/star\">Signum • Times</a>\n",
    "        </td>\n",
    "        <td><tt>2 + 3 30</tt>\n",
    "        </td>\n",
    "        <td><tt>3 30 * 2</tt>\n",
    "        </td></tr>\n",
    "    <tr>\n",
    "        <td> - <a href=\"http://code.jsoftware.com/wiki/Vocabulary/minus\" title=\"Vocabulary/minus\">Negate • Subtract</a>\n",
    "        </td>\n",
    "        <td>% <a href=\"http://code.jsoftware.com/wiki/Vocabulary/percent#dyadic\" title=\"Vocabulary/percent\">Reciprocal • Divide</a>\n",
    "        </td>\n",
    "        <td><tt>1 10 - 5 6</tt>\n",
    "        </td>\n",
    "        <td><tt>2 3 5&#160;% 3 4 6</tt>\n",
    "        </td></tr>\n",
    "    <tr>\n",
    "        <td><tt>^</tt> <a href=\"http://code.jsoftware.com/wiki/Vocabulary/hat#dyadic\" title=\"Vocabulary/hat\">Exponential • Power</a>\n",
    "        </td>\n",
    "        <td><tt>^.</tt> <a href=\"http://code.jsoftware.com/wiki/Vocabulary/hatdot\" title=\"Vocabulary/hatdot\">Natural Log • Log</a>\n",
    "        </td>\n",
    "        <td><tt>2 ^ i.17</tt>\n",
    "        </td>\n",
    "        <td><tt>2 10 ^. 4 100</tt>\n",
    "        </td>\n",
    "        <td><tt>&#160;^. 2.71828</tt>\n",
    "        </td></tr>\n",
    "    <tr>\n",
    "        <td><tt>&lt;.</tt> <a href=\"http://code.jsoftware.com/wiki/Vocabulary/ltdot\" title=\"Vocabulary/ltdot\">Floor • Minimum</a>\n",
    "        </td>\n",
    "        <td><tt>&gt;.</tt> <a href=\"http://code.jsoftware.com/wiki/Vocabulary/gtdot\" title=\"Vocabulary/gtdot\">Ceiling • Maximum</a>\n",
    "        </td>\n",
    "        <td><tt>2 3 4 &lt;. 99 1 2</tt>\n",
    "        </td>\n",
    "        <td><tt>&#160;&gt;. 1.1 0.5 1.9</tt>\n",
    "        </td></tr></table>"
   ]
  },
  {
   "cell_type": "code",
   "execution_count": 32,
   "metadata": {
    "collapsed": false
   },
   "outputs": [],
   "source": [
    "from lark import Transformer, Lark\n",
    "import numpy as np\n",
    "\n",
    "# verbs have form name:(monad,dyad)\n",
    "verbs = { \n",
    "    \"plus\"  : (\"np.conj\",\"np.add\",),\n",
    "    \"times\" : (\"np.sign\",\"np.multiply\")\n",
    "}\n",
    "\n",
    "class run_J(Transformer):\n",
    "    def expression(_,e):\n",
    "        return e\n",
    "    \n",
    "    def pos_num(self, n1):\n",
    "        # n1:  [Token(NUMBER, '4')]\n",
    "        n,=n1\n",
    "        return np.float(n)\n",
    "    def complex_num(self, z):\n",
    "        j = np.complex(1j)\n",
    "        a,b=z\n",
    "        #print(\"a+bi: \",z)\n",
    "        return a+b*j\n",
    "    def minus_num(self,n1):\n",
    "        #print(\"n1: \",n1)\n",
    "        n,=n1\n",
    "        return -n\n",
    "    \n",
    "    def list(self,l):\n",
    "        return \"np.array(\" + str(l) + \")\"\n",
    "\n",
    "    def dyad(self,a_op_b):\n",
    "        a,op,b=a_op_b\n",
    "        #print(\"a op b:\",a,op,b)\n",
    "        f = verbs[op][1]\n",
    "        return \"{f}({a},{b})\".format(f=f,a=a,b=b)\n",
    "    def monad(self,op_a):\n",
    "        op,a=op_a\n",
    "        print(\"op a:\",op,a)\n",
    "        f = verbs[op][0]\n",
    "        return \"{f}({a})\".format(f=f,a=a)\n",
    "    \n",
    "    times = lambda self,_: \"times\"\n",
    "    plus = lambda self,_: \"plus\"\n",
    "               \n",
    "        \n",
    "    '''\n",
    "    def __getattr__(self, name):\n",
    "        def _missing(*args, **kwargs):\n",
    "            # assume anything missing is literal\n",
    "            return name\n",
    "        return _missing\n",
    "    '''\n",
    "\n",
    "parser = Lark(J_grammar)\n",
    "def parse_and_run_J(code):  \n",
    "    tree = parser.parse(code)\n",
    "    #print(tree,tree.pretty())\n",
    "    return (run_J().transform(tree))[0]\n",
    "\n",
    "def eval_J(code):\n",
    "    return eval(parse_and_run_J(code))\n",
    "    "
   ]
  },
  {
   "cell_type": "code",
   "execution_count": 33,
   "metadata": {
    "collapsed": false
   },
   "outputs": [
    {
     "data": {
      "text/plain": [
       "array([  8.,  -9.,  24.])"
      ]
     },
     "execution_count": 33,
     "metadata": {},
     "output_type": "execute_result"
    }
   ],
   "source": [
    "test_string = \"4 3  6 * 2  _3 4\" \n",
    "parse_and_run_J(test_string)\n",
    "eval_J(test_string)"
   ]
  },
  {
   "cell_type": "code",
   "execution_count": 6,
   "metadata": {
    "collapsed": false
   },
   "outputs": [
    {
     "data": {
      "text/plain": [
       "array([ 3.00-0.j,  4.00-5.j, -6.00-0.j,  0.01-0.j,  3.00-2.j])"
      ]
     },
     "execution_count": 6,
     "metadata": {},
     "output_type": "execute_result"
    }
   ],
   "source": [
    "test_string = \"+3 4j5 _6 0.01 3j2\"\n",
    "runJ(test_string)"
   ]
  },
  {
   "cell_type": "code",
   "execution_count": 24,
   "metadata": {
    "collapsed": false
   },
   "outputs": [
    {
     "data": {
      "text/plain": [
       "array([  8.,  -9.,  24.])"
      ]
     },
     "execution_count": 24,
     "metadata": {},
     "output_type": "execute_result"
    }
   ],
   "source": [
    "np.multiply(np.array([4.0, 3.0, 6.0]),np.array([2.0, -3.0, 4.0]))"
   ]
  },
  {
   "cell_type": "code",
   "execution_count": 25,
   "metadata": {
    "collapsed": false
   },
   "outputs": [
    {
     "name": "stdout",
     "output_type": "stream",
     "text": [
      "Tree(expression, [Tree(monad, [Tree(plus, []), Tree(list, [Tree(pos_num, [Token(NUMBER, '3')]), Tree(complex_num, [Tree(pos_num, [Token(NUMBER, '4')]), Tree(pos_num, [Token(NUMBER, '5')])]), Tree(minus_num, [Tree(pos_num, [Token(NUMBER, '6')])]), Tree(pos_num, [Token(NUMBER, '0.01')]), Tree(complex_num, [Tree(pos_num, [Token(NUMBER, '3')]), Tree(pos_num, [Token(NUMBER, '2')])])])])]) expression\n",
      "  monad\n",
      "    plus\n",
      "    list\n",
      "      pos_num\t3\n",
      "      complex_num\n",
      "        pos_num\t4\n",
      "        pos_num\t5\n",
      "      minus_num\n",
      "        pos_num\t6\n",
      "      pos_num\t0.01\n",
      "      complex_num\n",
      "        pos_num\t3\n",
      "        pos_num\t2\n",
      "\n",
      "op a: plus np.array([3.0, (4+5j), -6.0, 0.01, (3+2j)])\n"
     ]
    },
    {
     "data": {
      "text/plain": [
       "'np.conj(np.array([3.0, (4+5j), -6.0, 0.01, (3+2j)]))'"
      ]
     },
     "execution_count": 25,
     "metadata": {},
     "output_type": "execute_result"
    }
   ],
   "source": [
    "test_string = \"+3 4j5 _6 0.01 3j2\"\n",
    "parse_and_run_J(test_string)"
   ]
  },
  {
   "cell_type": "code",
   "execution_count": 26,
   "metadata": {
    "collapsed": false
   },
   "outputs": [
    {
     "data": {
      "text/plain": [
       "array([ 3.00-0.j,  4.00-5.j, -6.00-0.j,  0.01-0.j,  3.00-2.j])"
      ]
     },
     "execution_count": 26,
     "metadata": {},
     "output_type": "execute_result"
    }
   ],
   "source": [
    "np.conj(np.array([3.0, (4+5j), -6.0, 0.01, (3+2j)]))"
   ]
  }
 ],
 "metadata": {
  "kernelspec": {
   "display_name": "Python 3",
   "language": "python",
   "name": "python3"
  },
  "language_info": {
   "codemirror_mode": {
    "name": "ipython",
    "version": 3
   },
   "file_extension": ".py",
   "mimetype": "text/x-python",
   "name": "python",
   "nbconvert_exporter": "python",
   "pygments_lexer": "ipython3",
   "version": "3.6.0"
  }
 },
 "nbformat": 4,
 "nbformat_minor": 2
}
