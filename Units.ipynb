{
 "cells": [
  {
   "cell_type": "code",
   "execution_count": 1,
   "metadata": {
    "collapsed": false
   },
   "outputs": [],
   "source": [
    "import numpy as np\n",
    "\n",
    "# The units package\n",
    "import pint \n",
    "# you may need to \"pip install pint\"\n",
    "\n",
    "import scipy.constants\n",
    "from scipy.constants import physical_constants"
   ]
  },
  {
   "cell_type": "code",
   "execution_count": 2,
   "metadata": {
    "collapsed": false
   },
   "outputs": [],
   "source": [
    "# This gives you the default base units, SI\n",
    "units = pint.UnitRegistry() \n",
    "\n",
    "s    = units.second\n",
    "m    = units.metre\n",
    "kg   = units.kilogram\n",
    "\n",
    "# We can use fancy unicode symbols too\n",
    "Å    = units.angstrom\n",
    "Ω    = units.ohm\n",
    "ftnt = units.fortnight"
   ]
  },
  {
   "cell_type": "code",
   "execution_count": 3,
   "metadata": {
    "collapsed": false
   },
   "outputs": [
    {
     "name": "stdout",
     "output_type": "stream",
     "text": [
      "10.0 meter / second\n",
      "meter / second\n",
      "[length] / [time]\n",
      "1.2096e+17 angstrom / fortnight\n"
     ]
    }
   ],
   "source": [
    "# Basics\n",
    "speed = 10*m/s\n",
    "\n",
    "print(speed)\n",
    "print(speed.units)\n",
    "print(speed.dimensionality)\n",
    "\n",
    "print(speed.to(Å/ftnt))"
   ]
  },
  {
   "cell_type": "code",
   "execution_count": 4,
   "metadata": {
    "collapsed": false
   },
   "outputs": [],
   "source": [
    "# This makes it easy to use constants from scipy\n",
    "def make_constant(name,use_uncertainty=False):\n",
    "    '''Make a dimensional quanitity from a CODATA value using pint and scipy'''\n",
    "    if not (name in physical_constants):\n",
    "        matches = scipy.constants.find(name)\n",
    "        if matches==[] :\n",
    "            raise LookupError(\"Constant not found, use scipy.constant.find(name) \\n or see https://docs.scipy.org/doc/scipy/reference/constants.html\")\n",
    "        else:\n",
    "            from warnings import warn\n",
    "            warn(\"Assuming \\\"{}\\\" means \\\"{}\\\".\".format(name,matches[0]))\n",
    "            name = matches[0]\n",
    "    value, unit, error = physical_constants[name] \n",
    "    if use_uncertainty:\n",
    "        return value*units.parse_expression(unit).plus_minus(error)\n",
    "    else:\n",
    "        return value*units.parse_expression(unit)"
   ]
  },
  {
   "cell_type": "code",
   "execution_count": 5,
   "metadata": {
    "collapsed": false
   },
   "outputs": [
    {
     "name": "stdout",
     "output_type": "stream",
     "text": [
      "μ₀ = 1.2566370614359173e-06 N/A²\n",
      "\n",
      "Griffiths says that c = 299792458.0 m / s should equal \n",
      " 1/√(μ₀ε₀) = 299792457.99999994 m / s\n",
      "\n",
      "Relative error: Δc/c = 1.9881969404110434e-14\n"
     ]
    },
    {
     "name": "stderr",
     "output_type": "stream",
     "text": [
      "C:\\Users\\danny\\Anaconda3\\lib\\site-packages\\ipykernel\\__main__.py:10: UserWarning: Assuming \"speed of light\" means \"speed of light in vacuum\".\n"
     ]
    }
   ],
   "source": [
    "# E&M Example\n",
    "\n",
    "μ0 = make_constant(\"mag. constant\")\n",
    "ε0 = make_constant(\"electric constant\")\n",
    "c  = make_constant(\"speed of light\") # This isn't the exact name so it will warn\n",
    "\n",
    "# Can use numpy functions with dimensional quantities\n",
    "c1 = 1/np.sqrt(μ0*ε0)\n",
    "\n",
    "# The print formatting is controlled like {:format}\n",
    "# where ~ means abbreviate, L means LaTeX, P means pretty\n",
    "\n",
    "print(\"μ₀ = {:~P}\".format(μ0))\n",
    "\n",
    "print()\n",
    "\n",
    "print(\n",
    "    \"Griffiths says that c = {:~}\".format(c),\n",
    "    \"should equal \\n 1/√(μ₀ε₀) = {:~}\".format(c1.to(m/s)),\n",
    ")\n",
    "\n",
    "print()\n",
    "\n",
    "error = 100*(np.abs(c1-c)/c)\n",
    "if error.dimensionless:\n",
    "    print(\"Relative error: Δc/c = {}\".format(error.magnitude))"
   ]
  },
  {
   "cell_type": "code",
   "execution_count": 6,
   "metadata": {
    "collapsed": false
   },
   "outputs": [
    {
     "name": "stderr",
     "output_type": "stream",
     "text": [
      "C:\\Users\\danny\\Anaconda3\\lib\\site-packages\\ipykernel\\__main__.py:10: UserWarning: Assuming \"newton\" means \"Newtonian constant of gravitation\".\n"
     ]
    },
    {
     "data": {
      "text/latex": [
       "\n",
       "    The gravitational constant $G$ has dimensions $\\frac{{length}^{3}}{\\left({mass} \\cdot {time}^{2}\\right)}$ and hence can be expressed in\n",
       "    terms of Planck length, mass and time as, \n",
       "    $$G= \\frac{l_{\\rm P}^3}{m_{\\rm P} t_{\\rm P}^2} =  \\left(\\left(6.674080000000001 \\pm 0.000000000000021\\right) \\times 10^{-11}\\right) \\frac{m^{3}}{\\left(kg \\cdot s^{2}\\right)}$$\n",
       "    "
      ],
      "text/plain": [
       "<IPython.core.display.Latex object>"
      ]
     },
     "execution_count": 6,
     "metadata": {},
     "output_type": "execute_result"
    }
   ],
   "source": [
    "# A fancy example with LaTex and uncertainties\n",
    "# you may need to \"pip install uncertainties\"\n",
    "\n",
    "from IPython.core.display import Latex #, HTML, Math, display\n",
    "\n",
    "G = make_constant(\"newton\",use_uncertainty=True)\n",
    "\n",
    "# Latex strings in python must use double braces like \\mathrm{{abc}}\n",
    "# so the dont contflict with things like \"x={}\".format(y)\n",
    "Latex(r'''\n",
    "    The gravitational constant $G$ has dimensions ${:L}$ and hence can be expressed in\n",
    "    terms of Planck length, mass and time as, \n",
    "    $$G= \\frac{{l_{{\\rm P}}^3}}{{m_{{\\rm P}} t_{{\\rm P}}^2}} =  {:~L}$$\n",
    "    '''.format(G.dimensionality, G))"
   ]
  },
  {
   "cell_type": "code",
   "execution_count": null,
   "metadata": {
    "collapsed": true
   },
   "outputs": [],
   "source": []
  }
 ],
 "metadata": {
  "kernelspec": {
   "display_name": "Python 3",
   "language": "python",
   "name": "python3"
  },
  "language_info": {
   "codemirror_mode": {
    "name": "ipython",
    "version": 3
   },
   "file_extension": ".py",
   "mimetype": "text/x-python",
   "name": "python",
   "nbconvert_exporter": "python",
   "pygments_lexer": "ipython3",
   "version": "3.6.0"
  }
 },
 "nbformat": 4,
 "nbformat_minor": 2
}
